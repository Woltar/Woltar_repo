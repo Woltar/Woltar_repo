{
  "nbformat": 4,
  "nbformat_minor": 0,
  "metadata": {
    "colab": {
      "provenance": []
    },
    "kernelspec": {
      "name": "python3",
      "display_name": "Python 3"
    },
    "language_info": {
      "name": "python"
    }
  },
  "cells": [
    {
      "cell_type": "markdown",
      "source": [
        "Проверьте работу на примере выполнения любой печати строки командой print(‘hi’)\n"
      ],
      "metadata": {
        "id": "WNU9HWadqSxM"
      }
    },
    {
      "cell_type": "code",
      "execution_count": null,
      "metadata": {
        "colab": {
          "base_uri": "https://localhost:8080/"
        },
        "id": "7x6xnQ4YqNT7",
        "outputId": "d17d83cc-a07e-4b29-c713-57a2955bdc0f"
      },
      "outputs": [
        {
          "output_type": "stream",
          "name": "stdout",
          "text": [
            "hi\n"
          ]
        }
      ],
      "source": [
        "print('hi')"
      ]
    },
    {
      "cell_type": "markdown",
      "source": [
        "a. Импортируйте библиотеку NumPy"
      ],
      "metadata": {
        "id": "vMl2bhimqeA7"
      }
    },
    {
      "cell_type": "code",
      "source": [
        "import numpy as np\n",
        "print('Библиотека успешно добавлена')"
      ],
      "metadata": {
        "colab": {
          "base_uri": "https://localhost:8080/"
        },
        "id": "s3kJ-t_zqinQ",
        "outputId": "d3495074-02c5-4177-8af7-aa4e450faed9"
      },
      "execution_count": null,
      "outputs": [
        {
          "output_type": "stream",
          "name": "stdout",
          "text": [
            "Библиотека успешно добавлена\n"
          ]
        }
      ]
    },
    {
      "cell_type": "markdown",
      "source": [
        "b. Создайте массив из 10 нулей"
      ],
      "metadata": {
        "id": "zcSDThoIqtML"
      }
    },
    {
      "cell_type": "code",
      "source": [
        "a=np.zeros(10)\n",
        "print(a)"
      ],
      "metadata": {
        "colab": {
          "base_uri": "https://localhost:8080/"
        },
        "id": "TKdMDr86qwro",
        "outputId": "b2159310-e373-4e2e-943a-23291b4525c9"
      },
      "execution_count": null,
      "outputs": [
        {
          "output_type": "stream",
          "name": "stdout",
          "text": [
            "[0. 0. 0. 0. 0. 0. 0. 0. 0. 0.]\n"
          ]
        }
      ]
    },
    {
      "cell_type": "markdown",
      "source": [
        "c. Создать массив из 10 единиц"
      ],
      "metadata": {
        "id": "BxfqX91qq5id"
      }
    },
    {
      "cell_type": "code",
      "source": [
        "a=np.ones(10)\n",
        "print(a)"
      ],
      "metadata": {
        "colab": {
          "base_uri": "https://localhost:8080/"
        },
        "id": "Lo_zHQ0Xq9d1",
        "outputId": "d623c45d-f31f-405d-fb77-bd73e27de60f"
      },
      "execution_count": null,
      "outputs": [
        {
          "output_type": "stream",
          "name": "stdout",
          "text": [
            "[1. 1. 1. 1. 1. 1. 1. 1. 1. 1.]\n"
          ]
        }
      ]
    },
    {
      "cell_type": "markdown",
      "source": [
        "d. Создать массив из 10 пятерок\n"
      ],
      "metadata": {
        "id": "Pc7nBhmCrFIA"
      }
    },
    {
      "cell_type": "code",
      "source": [
        "a=np.zeros(10)\n",
        "a[:]=5\n",
        "print(a)"
      ],
      "metadata": {
        "colab": {
          "base_uri": "https://localhost:8080/"
        },
        "id": "axt-H7jMrJt1",
        "outputId": "08a8cea4-4b11-4029-cf92-bc157b3155aa"
      },
      "execution_count": null,
      "outputs": [
        {
          "output_type": "stream",
          "name": "stdout",
          "text": [
            "[5. 5. 5. 5. 5. 5. 5. 5. 5. 5.]\n"
          ]
        }
      ]
    },
    {
      "cell_type": "markdown",
      "source": [
        "e. Создать массив из целых чисел от 10 до 50"
      ],
      "metadata": {
        "id": "-epqME9Grmvk"
      }
    },
    {
      "cell_type": "code",
      "source": [
        "a=np.arange(10,51)\n",
        "print(a)"
      ],
      "metadata": {
        "colab": {
          "base_uri": "https://localhost:8080/"
        },
        "id": "138PEs0Jrpf6",
        "outputId": "7648047e-bf1b-4cf6-a43d-a10dc9199ad7"
      },
      "execution_count": null,
      "outputs": [
        {
          "output_type": "stream",
          "name": "stdout",
          "text": [
            "[10 11 12 13 14 15 16 17 18 19 20 21 22 23 24 25 26 27 28 29 30 31 32 33\n",
            " 34 35 36 37 38 39 40 41 42 43 44 45 46 47 48 49 50]\n"
          ]
        }
      ]
    },
    {
      "cell_type": "markdown",
      "source": [
        "f. Создать массив из четных чисел от 10 до 50"
      ],
      "metadata": {
        "id": "g14w1H8qstWI"
      }
    },
    {
      "cell_type": "code",
      "source": [
        "a=np.arange(10,51,2)\n",
        "print(a)"
      ],
      "metadata": {
        "colab": {
          "base_uri": "https://localhost:8080/"
        },
        "id": "QkVwjqc4sxJN",
        "outputId": "706ae0ee-74e1-46f3-b87b-8d122210740e"
      },
      "execution_count": null,
      "outputs": [
        {
          "output_type": "stream",
          "name": "stdout",
          "text": [
            "[10 12 14 16 18 20 22 24 26 28 30 32 34 36 38 40 42 44 46 48 50]\n"
          ]
        }
      ]
    },
    {
      "cell_type": "markdown",
      "source": [
        "g. Создать матрицу 3х3 с числами от 0 до 8"
      ],
      "metadata": {
        "id": "3YydEqois3JN"
      }
    },
    {
      "cell_type": "code",
      "source": [
        "a=np.arange(0,9)\n",
        "a=a.reshape(3,3)\n",
        "print(a)"
      ],
      "metadata": {
        "colab": {
          "base_uri": "https://localhost:8080/"
        },
        "id": "HxXBUONfs62D",
        "outputId": "b6d621ef-39cd-4aaa-ddb2-b1978702d82c"
      },
      "execution_count": null,
      "outputs": [
        {
          "output_type": "stream",
          "name": "stdout",
          "text": [
            "[[0 1 2]\n",
            " [3 4 5]\n",
            " [6 7 8]]\n"
          ]
        }
      ]
    },
    {
      "cell_type": "markdown",
      "source": [
        "h. Создать единичную матрицу 3x3"
      ],
      "metadata": {
        "id": "e6Rb0aRFtCrz"
      }
    },
    {
      "cell_type": "code",
      "source": [
        "a=np.eye(3)\n",
        "print(a)"
      ],
      "metadata": {
        "colab": {
          "base_uri": "https://localhost:8080/"
        },
        "id": "jWDCg2QStFqU",
        "outputId": "1b76f37d-8a14-43de-f197-8798c7478aa7"
      },
      "execution_count": null,
      "outputs": [
        {
          "output_type": "stream",
          "name": "stdout",
          "text": [
            "[[1. 0. 0.]\n",
            " [0. 1. 0.]\n",
            " [0. 0. 1.]]\n"
          ]
        }
      ]
    },
    {
      "cell_type": "markdown",
      "source": [
        "i. Используйте NumPy для генерации случайного числа от 0 до 1"
      ],
      "metadata": {
        "id": "13LYWOxotJN7"
      }
    },
    {
      "cell_type": "code",
      "source": [
        "a=np.random.rand()\n",
        "print(a)"
      ],
      "metadata": {
        "colab": {
          "base_uri": "https://localhost:8080/"
        },
        "id": "Oc2AaFaXtN9C",
        "outputId": "a7e79ac9-be2d-48a0-f749-84657a4b92f8"
      },
      "execution_count": null,
      "outputs": [
        {
          "output_type": "stream",
          "name": "stdout",
          "text": [
            "0.9026588927714055\n"
          ]
        }
      ]
    },
    {
      "cell_type": "markdown",
      "source": [
        "j. Используйте NumPy для генерации массива из 25 случайных чисел, взятых из стандартного нормального распределения"
      ],
      "metadata": {
        "id": "MVQGylDYuJa1"
      }
    },
    {
      "cell_type": "code",
      "source": [
        "a=np.random.randn(25)\n",
        "print(a)"
      ],
      "metadata": {
        "colab": {
          "base_uri": "https://localhost:8080/"
        },
        "id": "1teW7qSWuJqd",
        "outputId": "33f90708-d3d4-4d8d-aefc-2e14014e28eb"
      },
      "execution_count": null,
      "outputs": [
        {
          "output_type": "stream",
          "name": "stdout",
          "text": [
            "[-0.94473253 -1.91536009  1.28845912 -0.02691373 -1.14269974 -1.25302366\n",
            " -1.24407606 -0.79190306 -0.58363757  0.58684435  0.05315929 -0.80840947\n",
            "  1.12808221  0.60020685  1.21177489  0.48633255  0.59953942 -0.19056492\n",
            "  1.60806754 -1.33404279  0.54272551  1.46186644 -0.11117097  0.16962572\n",
            "  1.00031405]\n"
          ]
        }
      ]
    },
    {
      "cell_type": "markdown",
      "source": [
        "k. Создайте следующую матрицу используя функции библиотеки NumPy"
      ],
      "metadata": {
        "id": "VdtAmUFHuWIe"
      }
    },
    {
      "cell_type": "code",
      "source": [
        "a=np.linspace(0.01,1,100)\n",
        "a=np.array(a)\n",
        "a=a.reshape(10,10)\n",
        "print(a)"
      ],
      "metadata": {
        "colab": {
          "base_uri": "https://localhost:8080/"
        },
        "id": "7xEAx48guVoZ",
        "outputId": "fffaba3a-0824-452b-9333-19e5220d64d9"
      },
      "execution_count": null,
      "outputs": [
        {
          "output_type": "stream",
          "name": "stdout",
          "text": [
            "[[0.01 0.02 0.03 0.04 0.05 0.06 0.07 0.08 0.09 0.1 ]\n",
            " [0.11 0.12 0.13 0.14 0.15 0.16 0.17 0.18 0.19 0.2 ]\n",
            " [0.21 0.22 0.23 0.24 0.25 0.26 0.27 0.28 0.29 0.3 ]\n",
            " [0.31 0.32 0.33 0.34 0.35 0.36 0.37 0.38 0.39 0.4 ]\n",
            " [0.41 0.42 0.43 0.44 0.45 0.46 0.47 0.48 0.49 0.5 ]\n",
            " [0.51 0.52 0.53 0.54 0.55 0.56 0.57 0.58 0.59 0.6 ]\n",
            " [0.61 0.62 0.63 0.64 0.65 0.66 0.67 0.68 0.69 0.7 ]\n",
            " [0.71 0.72 0.73 0.74 0.75 0.76 0.77 0.78 0.79 0.8 ]\n",
            " [0.81 0.82 0.83 0.84 0.85 0.86 0.87 0.88 0.89 0.9 ]\n",
            " [0.91 0.92 0.93 0.94 0.95 0.96 0.97 0.98 0.99 1.  ]]\n"
          ]
        }
      ]
    },
    {
      "cell_type": "markdown",
      "source": [
        "l. Дана стартовая матрица"
      ],
      "metadata": {
        "id": "8tKz4MMQvWan"
      }
    },
    {
      "cell_type": "code",
      "source": [
        "mat = np.arange(1,26).reshape(5,5)\n",
        "print(mat)"
      ],
      "metadata": {
        "colab": {
          "base_uri": "https://localhost:8080/"
        },
        "id": "ZKZwrVGEvY7z",
        "outputId": "0c195b64-5d74-474a-9f01-26add935bc7d"
      },
      "execution_count": null,
      "outputs": [
        {
          "output_type": "stream",
          "name": "stdout",
          "text": [
            "[[ 1  2  3  4  5]\n",
            " [ 6  7  8  9 10]\n",
            " [11 12 13 14 15]\n",
            " [16 17 18 19 20]\n",
            " [21 22 23 24 25]]\n"
          ]
        }
      ]
    },
    {
      "cell_type": "markdown",
      "source": [
        "Необходимо написать код, который вернет следующую матрицу из стартовой"
      ],
      "metadata": {
        "id": "ObNA0z7Mvg_Q"
      }
    },
    {
      "cell_type": "code",
      "source": [
        "a=mat[2:,1:]\n",
        "print(a)"
      ],
      "metadata": {
        "colab": {
          "base_uri": "https://localhost:8080/"
        },
        "id": "W4EcyUQpvoT_",
        "outputId": "b5a68c64-5143-47ed-eb4c-884c5e447ed9"
      },
      "execution_count": null,
      "outputs": [
        {
          "output_type": "stream",
          "name": "stdout",
          "text": [
            "[[12 13 14 15]\n",
            " [17 18 19 20]\n",
            " [22 23 24 25]]\n"
          ]
        }
      ]
    },
    {
      "cell_type": "markdown",
      "source": [
        "m. Написать код обращения к элементу который вернет значение 20 из стартовой матрицы задачи l."
      ],
      "metadata": {
        "id": "4SxC7gNRv1Js"
      }
    },
    {
      "cell_type": "code",
      "source": [
        "a=mat[3,4]\n",
        "print(a)"
      ],
      "metadata": {
        "colab": {
          "base_uri": "https://localhost:8080/"
        },
        "id": "SMV7kk_JwATk",
        "outputId": "2b947449-e215-4ff4-a6ad-52a45013c820"
      },
      "execution_count": null,
      "outputs": [
        {
          "output_type": "stream",
          "name": "stdout",
          "text": [
            "20\n"
          ]
        }
      ]
    },
    {
      "cell_type": "markdown",
      "source": [
        "n. Написать код к стартовой матрице задачи l, который воспроизводит вывод, показанный ниже"
      ],
      "metadata": {
        "id": "ffIXgbnnwjPv"
      }
    },
    {
      "cell_type": "code",
      "source": [
        "a=mat[:3,1]\n",
        "a=a.reshape(1,3)\n",
        "print(a)"
      ],
      "metadata": {
        "colab": {
          "base_uri": "https://localhost:8080/"
        },
        "id": "8qgkVDwZwiRX",
        "outputId": "07b35e25-da44-4927-9b85-785483aa96e4"
      },
      "execution_count": null,
      "outputs": [
        {
          "output_type": "stream",
          "name": "stdout",
          "text": [
            "[[ 2  7 12]]\n"
          ]
        }
      ]
    },
    {
      "cell_type": "markdown",
      "source": [
        "o. Написать код к стартовой матрице задачи l, который воспроизводит вывод, показанный ниже"
      ],
      "metadata": {
        "id": "4ELhbecow3Vd"
      }
    },
    {
      "cell_type": "code",
      "source": [
        "a=mat[4,:]\n",
        "print(a)"
      ],
      "metadata": {
        "colab": {
          "base_uri": "https://localhost:8080/"
        },
        "id": "9uCSXCDxw_xk",
        "outputId": "25e52eb3-1ecc-469c-adea-a4a05b1af48b"
      },
      "execution_count": null,
      "outputs": [
        {
          "output_type": "stream",
          "name": "stdout",
          "text": [
            "[21 22 23 24 25]\n"
          ]
        }
      ]
    },
    {
      "cell_type": "markdown",
      "source": [
        "p. Написать код к стартовой матрице задачи l, который воспроизводит вывод, показанный ниже"
      ],
      "metadata": {
        "id": "GLq-Py5OxKNn"
      }
    },
    {
      "cell_type": "code",
      "source": [
        "a=mat[3:,:]\n",
        "print(a)"
      ],
      "metadata": {
        "colab": {
          "base_uri": "https://localhost:8080/"
        },
        "id": "7y_KL0t7xNpW",
        "outputId": "fcb1fa9e-b4e3-4e59-e639-ba6856ed7f89"
      },
      "execution_count": null,
      "outputs": [
        {
          "output_type": "stream",
          "name": "stdout",
          "text": [
            "[[16 17 18 19 20]\n",
            " [21 22 23 24 25]]\n"
          ]
        }
      ]
    },
    {
      "cell_type": "markdown",
      "source": [
        "q. Получить сумму всех значений в стартовой матрице mat"
      ],
      "metadata": {
        "id": "r0x7sbrzxXlY"
      }
    },
    {
      "cell_type": "code",
      "source": [
        "a=mat.sum()\n",
        "print(a)"
      ],
      "metadata": {
        "colab": {
          "base_uri": "https://localhost:8080/"
        },
        "id": "uvSiyogfxaKu",
        "outputId": "488e6a66-b919-4a76-ca67-78860a17f47b"
      },
      "execution_count": null,
      "outputs": [
        {
          "output_type": "stream",
          "name": "stdout",
          "text": [
            "325\n"
          ]
        }
      ]
    },
    {
      "cell_type": "markdown",
      "source": [
        "r. Получить стандартное отклонение в стартовой матрице mat"
      ],
      "metadata": {
        "id": "7VW0x3tmxrP0"
      }
    },
    {
      "cell_type": "code",
      "source": [
        "a=mat.std()\n",
        "print(a)"
      ],
      "metadata": {
        "colab": {
          "base_uri": "https://localhost:8080/"
        },
        "id": "88e_70eUxtIC",
        "outputId": "449a3e63-6fd3-4f94-bb95-b977b9b6d4c1"
      },
      "execution_count": null,
      "outputs": [
        {
          "output_type": "stream",
          "name": "stdout",
          "text": [
            "7.211102550927978\n"
          ]
        }
      ]
    },
    {
      "cell_type": "markdown",
      "source": [
        "s. Получить сумму значений в колонках в стартовой матрице mat"
      ],
      "metadata": {
        "id": "obODeD9UyYBy"
      }
    },
    {
      "cell_type": "code",
      "source": [
        "a=mat.sum(axis=0)\n",
        "print(a)"
      ],
      "metadata": {
        "colab": {
          "base_uri": "https://localhost:8080/"
        },
        "id": "i1P7oiJUyaK1",
        "outputId": "3b37e368-4ea4-45dd-89dc-3d448d0f13e7"
      },
      "execution_count": null,
      "outputs": [
        {
          "output_type": "stream",
          "name": "stdout",
          "text": [
            "[55 60 65 70 75]\n"
          ]
        }
      ]
    }
  ]
}